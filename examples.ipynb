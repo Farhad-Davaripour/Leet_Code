{
 "cells": [
  {
   "cell_type": "markdown",
   "metadata": {},
   "source": [
    "### LeetCode Problems"
   ]
  },
  {
   "cell_type": "markdown",
   "metadata": {},
   "source": [
    "1. Find the maximum product of two integers in a list"
   ]
  },
  {
   "cell_type": "code",
   "execution_count": 2,
   "metadata": {},
   "outputs": [
    {
     "name": "stdout",
     "output_type": "stream",
     "text": [
      "2925\n"
     ]
    }
   ],
   "source": [
    "\n",
    "# solution #1\n",
    "def find_max(nums):\n",
    "    nums.sort()\n",
    "    max_product = max((nums[-1] * nums[-2]) , (nums[0] * nums[1]))\n",
    "    return max_product\n",
    "\n",
    "my_list = [1,3,5,6,7,45,65,7]\n",
    "print(find_max(my_list))\n"
   ]
  },
  {
   "cell_type": "code",
   "execution_count": 10,
   "metadata": {},
   "outputs": [
    {
     "name": "stdout",
     "output_type": "stream",
     "text": [
      "2925\n"
     ]
    }
   ],
   "source": [
    "\n",
    "# solution #2\n",
    "def find_max(nums):\n",
    "    max_num = max(my_list)\n",
    "    my_list.remove(max_num)\n",
    "    max_num_2nd = max(my_list)\n",
    "    max_product = max_num * max_num_2nd\n",
    "    return max_product\n",
    "\n",
    "my_list = [1,3,5,6,7,45,65,7]\n",
    "print(find_max(my_list))\n"
   ]
  }
 ],
 "metadata": {
  "kernelspec": {
   "display_name": "Python 3",
   "language": "python",
   "name": "python3"
  },
  "language_info": {
   "codemirror_mode": {
    "name": "ipython",
    "version": 3
   },
   "file_extension": ".py",
   "mimetype": "text/x-python",
   "name": "python",
   "nbconvert_exporter": "python",
   "pygments_lexer": "ipython3",
   "version": "3.8.5"
  },
  "orig_nbformat": 4
 },
 "nbformat": 4,
 "nbformat_minor": 2
}
